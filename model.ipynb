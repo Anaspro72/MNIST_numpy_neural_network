{
 "cells": [
  {
   "cell_type": "code",
   "execution_count": 17,
   "metadata": {},
   "outputs": [],
   "source": [
    "# importing libraries\n",
    "import numpy as np\n",
    "import pandas as pd\n",
    "import matplotlib.pyplot as plt\n",
    "\n"
   ]
  },
  {
   "cell_type": "code",
   "execution_count": 18,
   "metadata": {},
   "outputs": [
    {
     "data": {
      "text/plain": [
       "(42000, 785)"
      ]
     },
     "execution_count": 18,
     "metadata": {},
     "output_type": "execute_result"
    }
   ],
   "source": [
    "# READING DATA\n",
    "data = pd.read_csv(\"train.csv\")\n",
    "data.head()\n",
    "data.shape\n"
   ]
  },
  {
   "cell_type": "code",
   "execution_count": 19,
   "metadata": {},
   "outputs": [],
   "source": [
    "# DATA PREPROCESSING\n",
    "\n",
    "data = np.array(data) # changing type to np arrat\n",
    "m, n = data.shape   # declaring m , n to rows to and columns respectively\n",
    "\n",
    "np. random.shuffle(data)  # suffle data before splitting into dev and training sets\n",
    "\n",
    "\n",
    "dev_data = data[0:1000].T  # taking transpose of data\n",
    "dev_data.shape             \n",
    "dev_Y = dev_data[0]        # Extrating first row from the data as first row is a label\n",
    "dev_X = dev_data[1:n]      # Extracting data from row 1 to n\n",
    "dev_X = dev_X/255          # Normalizing the pixels\n",
    "\n",
    "data_train = data[1000:m].T # Extracting data from 2000th row to m(exclusive) and taking transpose\n",
    "\n",
    "Y_train = data_train[0]    # Extracting first row(0th row) from the training data as it has labels \n",
    "X_train = data_train[1:n]  # Extacting data from 1th row upto n(exclusive)\n",
    "X_train = X_train/255      # Normalizing data\n",
    "\n"
   ]
  },
  {
   "cell_type": "code",
   "execution_count": 20,
   "metadata": {},
   "outputs": [],
   "source": [
    "# BUILDING THE MODEL\n",
    "\n",
    "def params():\n",
    "    #input size = 784, hidden layer sizes = 128, 64, and output size = 10\n",
    "    W1 = np.random.rand(128, 784) - 0.5  # First layer weights\n",
    "    b1 = np.random.rand(128, 1) - 0.5    # First layer biases\n",
    "    W2 = np.random.rand(64, 128) - 0.5   # Second layer weights\n",
    "    b2 = np.random.rand(64, 1) - 0.5     # Second layer biases\n",
    "    W3 = np.random.rand(10, 64) - 0.5    # Output layer weights\n",
    "    b3 = np.random.rand(10, 1) - 0.5     # Output layer biases\n",
    "    return W1, b1, W2, b2, W3, b3\n",
    "\n",
    "# Forward propagation\n",
    "def ReLU(Z):\n",
    "    return np.maximum(Z,0)\n",
    "\n",
    "def softmax(Z):\n",
    "    A = np.exp(Z) / sum(np.exp(Z))\n",
    "    return A\n",
    "\n",
    "def forward_prop(W1, b1, W2, b2, W3, b3, X):\n",
    "    Z1 = W1.dot(X) + b1  \n",
    "    A1 = ReLU(Z1)        \n",
    "    Z2 = W2.dot(A1) + b2 \n",
    "    A2 = ReLU(Z2)        \n",
    "    Z3 = W3.dot(A2) + b3 \n",
    "    A3 = softmax(Z3)     \n",
    "    return Z1, A1, Z2, A2, Z3, A3\n",
    "\n",
    "\n",
    "# back propagation\n",
    "def ReLU_derrivative(Z):\n",
    "    return Z > 0\n",
    "\n",
    "def one_hot_encoding(Y):\n",
    "    one_hot_Y = np.zeros((Y.max() + 1, Y.size)) \n",
    "    one_hot_Y[Y, np.arange(Y.size)] = 1\n",
    "    return one_hot_Y\n",
    "\n",
    "\n",
    "def back_propag(Z1, A1, Z2, A2, Z3, A3, W1, W2, W3, X, Y):\n",
    "    one_hot_Y = one_hot_encoding(Y)  \n",
    "    dZ3 = A3 - one_hot_Y             \n",
    "    dW3 = 1 / X.shape[1] * dZ3.dot(A2.T)  \n",
    "    db3 = 1 / X.shape[1] * np.sum(dZ3, axis=1, keepdims=True)  \n",
    "    dZ2 = W3.T.dot(dZ3) * ReLU_derrivative(Z2)  \n",
    "    dW2 = 1 / X.shape[1] * dZ2.dot(A1.T)  \n",
    "    db2 = 1 / X.shape[1] * np.sum(dZ2, axis=1, keepdims=True)  \n",
    "    dZ1 = W2.T.dot(dZ2) * ReLU_derrivative(Z1)  \n",
    "    dW1 = 1 / X.shape[1] * dZ1.dot(X.T)  \n",
    "    db1 = 1 / X.shape[1] * np.sum(dZ1, axis=1, keepdims=True)  \n",
    "    return dW1, db1, dW2, db2, dW3, db3\n",
    "\n",
    "\n",
    "\n",
    "# updating parameters\n",
    "def update_params(W1, b1, W2, b2, W3, b3, dW1, db1, dW2, db2, dW3, db3, alfa):\n",
    "    W1 -= alfa * dW1  \n",
    "    b1 -= alfa * db1  \n",
    "    W2 -= alfa * dW2  \n",
    "    b2 -= alfa * db2  \n",
    "    W3 -= alfa * dW3  \n",
    "    b3 -= alfa * db3 \n",
    "    return W1, b1, W2, b2, W3, b3\n",
    "\n",
    "\n",
    "\n",
    "\n",
    "\n",
    "\n",
    "\n",
    "\n"
   ]
  },
  {
   "cell_type": "code",
   "execution_count": 21,
   "metadata": {},
   "outputs": [],
   "source": [
    "def get_predictions(A3):\n",
    "    return np.argmax(A3, axis=0)\n",
    "\n",
    "def get_accuracy(predictions, Y):\n",
    "    return np.mean(predictions == Y) * 100\n",
    "\n",
    "\n",
    "\n",
    "\n",
    "def gradient_descent(X, Y, alfa, iterations):\n",
    "    np.random.seed(42)\n",
    "    W1 = np.random.rand(64, 784) - 0.5\n",
    "    b1 = np.random.rand(64, 1) - 0.5\n",
    "    W2 = np.random.rand(64, 64) - 0.5\n",
    "    b2 = np.random.rand(64, 1) - 0.5\n",
    "    W3 = np.random.rand(10, 64) - 0.5\n",
    "    b3 = np.random.rand(10, 1) - 0.5\n",
    "\n",
    "    for i in range(iterations):\n",
    "        Z1, A1, Z2, A2, Z3, A3 = forward_prop(W1, b1, W2, b2, W3, b3, X)\n",
    "        dW1, db1, dW2, db2, dW3, db3 = back_propag(Z1, A1, Z2, A2, Z3, A3, W1, W2, W3, X, Y)\n",
    "        W1, b1, W2, b2, W3, b3 = update_params(W1, b1, W2, b2, W3, b3, dW1, db1, dW2, db2, dW3, db3, alfa)\n",
    "\n",
    "        if i % 10 == 0:\n",
    "            predictions = get_predictions(A3)\n",
    "            accuracy = get_accuracy(predictions, Y)\n",
    "            print(f\"Iteration {i}: Accuracy = {accuracy:.2f}%\")\n",
    "\n",
    "    return W1, b1, W2, b2, W3, b3\n",
    "\n"
   ]
  },
  {
   "cell_type": "code",
   "execution_count": 22,
   "metadata": {},
   "outputs": [
    {
     "name": "stdout",
     "output_type": "stream",
     "text": [
      "Iteration 0: Accuracy = 7.05%\n",
      "Iteration 10: Accuracy = 50.21%\n",
      "Iteration 20: Accuracy = 64.42%\n",
      "Iteration 30: Accuracy = 70.70%\n",
      "Iteration 40: Accuracy = 74.18%\n",
      "Iteration 50: Accuracy = 76.77%\n",
      "Iteration 60: Accuracy = 78.55%\n",
      "Iteration 70: Accuracy = 79.93%\n",
      "Iteration 80: Accuracy = 81.16%\n",
      "Iteration 90: Accuracy = 82.09%\n",
      "Iteration 100: Accuracy = 82.92%\n",
      "Iteration 110: Accuracy = 83.61%\n",
      "Iteration 120: Accuracy = 84.25%\n",
      "Iteration 130: Accuracy = 84.78%\n",
      "Iteration 140: Accuracy = 85.31%\n",
      "Iteration 150: Accuracy = 85.75%\n",
      "Iteration 160: Accuracy = 86.15%\n",
      "Iteration 170: Accuracy = 86.48%\n",
      "Iteration 180: Accuracy = 86.89%\n",
      "Iteration 190: Accuracy = 87.19%\n",
      "Iteration 200: Accuracy = 87.45%\n",
      "Iteration 210: Accuracy = 87.70%\n",
      "Iteration 220: Accuracy = 87.89%\n",
      "Iteration 230: Accuracy = 88.15%\n",
      "Iteration 240: Accuracy = 88.36%\n",
      "Iteration 250: Accuracy = 88.58%\n",
      "Iteration 260: Accuracy = 88.76%\n",
      "Iteration 270: Accuracy = 88.98%\n",
      "Iteration 280: Accuracy = 89.14%\n",
      "Iteration 290: Accuracy = 89.31%\n",
      "Iteration 300: Accuracy = 89.48%\n",
      "Iteration 310: Accuracy = 89.67%\n",
      "Iteration 320: Accuracy = 89.86%\n",
      "Iteration 330: Accuracy = 89.99%\n",
      "Iteration 340: Accuracy = 90.11%\n",
      "Iteration 350: Accuracy = 90.22%\n",
      "Iteration 360: Accuracy = 90.36%\n",
      "Iteration 370: Accuracy = 90.48%\n",
      "Iteration 380: Accuracy = 90.58%\n",
      "Iteration 390: Accuracy = 90.67%\n"
     ]
    }
   ],
   "source": [
    "W1, b1, W2, b2, W3, b3 = gradient_descent( X_train, Y_train, 0.10, 400)"
   ]
  },
  {
   "cell_type": "code",
   "execution_count": null,
   "metadata": {},
   "outputs": [
    {
     "name": "stdout",
     "output_type": "stream",
     "text": [
      "\n",
      "Final Training Accuracy: 90.79%\n"
     ]
    }
   ],
   "source": [
    "# Training accuracy\n",
    "Z1, A1, Z2, A2, Z3, A3 = forward_prop(W1, b1, W2, b2, W3, b3, X_train)\n",
    "final_predictions = get_predictions(A3)\n",
    "final_accuracy = get_accuracy(final_predictions, Y_train)\n",
    "\n",
    "print(\"\\nFinal Training Accuracy: {:.2f}%\".format(final_accuracy))\n"
   ]
  },
  {
   "cell_type": "code",
   "execution_count": null,
   "metadata": {},
   "outputs": [
    {
     "name": "stdout",
     "output_type": "stream",
     "text": [
      "Dev Set Accuracy: 89.40%\n"
     ]
    }
   ],
   "source": [
    "# Dev Accuracy\n",
    "Z1, A1, Z2, A2, Z3, A3 = forward_prop(W1, b1, W2, b2, W3, b3, dev_X)\n",
    "dev_predictions = get_predictions(A3)\n",
    "dev_accuracy = get_accuracy(dev_predictions, dev_Y)\n",
    "\n",
    "print(\"Dev Set Accuracy: {:.2f}%\".format(dev_accuracy))\n"
   ]
  },
  {
   "cell_type": "code",
   "execution_count": 25,
   "metadata": {},
   "outputs": [],
   "source": [
    "# Testing the model different images \n",
    "def make_predictions(X, W1, b1, W2, b2, W3, b3):\n",
    "    _, _, _, _, _, A3 = forward_prop(W1, b1, W2, b2, W3, b3, X)\n",
    "    predictions = get_predictions(A3)\n",
    "    return predictions\n",
    "\n",
    "def test_prediction(index, W1, b1, W2, b2, W3, b3):\n",
    "    current_image = X_train[:, index, None]\n",
    "    prediction = make_predictions(current_image, W1, b1, W2, b2, W3, b3)\n",
    "    label = Y_train[index]\n",
    "    print(\"Prediction: \", prediction)\n",
    "    print(\"Label: \", label)\n",
    "    \n",
    "    current_image = current_image.reshape((28, 28)) * 255\n",
    "    plt.gray()\n",
    "    plt.imshow(current_image, interpolation='nearest')\n",
    "    plt.show()\n"
   ]
  },
  {
   "cell_type": "code",
   "execution_count": 26,
   "metadata": {},
   "outputs": [
    {
     "name": "stdout",
     "output_type": "stream",
     "text": [
      "Prediction:  [9]\n",
      "Label:  9\n"
     ]
    },
    {
     "data": {
      "image/png": "[encoded data removed]",
      "text/plain": [
       "<Figure size 640x480 with 1 Axes>"
      ]
     },
     "metadata": {},
     "output_type": "display_data"
    },
    {
     "name": "stdout",
     "output_type": "stream",
     "text": [
      "Prediction:  [3]\n",
      "Label:  3\n"
     ]
    },
    {
     "data": {
      "image/png": "[encoded data removed]",
      "text/plain": [
       "<Figure size 640x480 with 1 Axes>"
      ]
     },
     "metadata": {},
     "output_type": "display_data"
    },
    {
     "name": "stdout",
     "output_type": "stream",
     "text": [
      "Prediction:  [0]\n",
      "Label:  0\n"
     ]
    },
    {
     "data": {
      "image/png": "[encoded data removed]",
      "text/plain": [
       "<Figure size 640x480 with 1 Axes>"
      ]
     },
     "metadata": {},
     "output_type": "display_data"
    },
    {
     "name": "stdout",
     "output_type": "stream",
     "text": [
      "Prediction:  [4]\n",
      "Label:  4\n"
     ]
    },
    {
     "data": {
      "image/png": "[encoded data removed]",
      "text/plain": [
       "<Figure size 640x480 with 1 Axes>"
      ]
     },
     "metadata": {},
     "output_type": "display_data"
    },
    {
     "name": "stdout",
     "output_type": "stream",
     "text": [
      "Prediction:  [8]\n",
      "Label:  8\n"
     ]
    },
    {
     "data": {
      "image/png": "[encoded data removed]",
      "text/plain": [
       "<Figure size 640x480 with 1 Axes>"
      ]
     },
     "metadata": {},
     "output_type": "display_data"
    }
   ],
   "source": [
    "test_prediction(145, W1, b1, W2, b2, W3, b3)\n",
    "test_prediction(556, W1, b1, W2, b2, W3, b3)\n",
    "test_prediction(223, W1, b1, W2, b2, W3, b3)\n",
    "test_prediction(167, W1, b1, W2, b2, W3, b3)\n",
    "test_prediction(630, W1, b1, W2, b2, W3, b3)"
   ]
  }
 ],
 "metadata": {
  "kernelspec": {
   "display_name": "venv",
   "language": "python",
   "name": "python3"
  },
  "language_info": {
   "codemirror_mode": {
    "name": "ipython",
    "version": 3
   },
   "file_extension": ".py",
   "mimetype": "text/x-python",
   "name": "python",
   "nbconvert_exporter": "python",
   "pygments_lexer": "ipython3",
   "version": "3.11.1"
  }
 },
 "nbformat": 4,
 "nbformat_minor": 2
}
